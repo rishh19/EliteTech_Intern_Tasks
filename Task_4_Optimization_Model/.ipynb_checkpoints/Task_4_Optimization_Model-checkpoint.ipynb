{
 "cells": [
  {
   "cell_type": "markdown",
   "id": "196df8ae-bab9-4a57-b83e-2c0b58435631",
   "metadata": {},
   "source": [
    "**Name:** Rishav  \n",
    "**Internship Task:** Task 4 – Optimization Model using PuLP  \n",
    "**Tool Used:** Python, Jupyter Notebook  \n"
   ]
  },
  {
   "cell_type": "markdown",
   "id": "bbb8ddfe-3703-41dd-bdc3-1e53dd304657",
   "metadata": {},
   "source": [
    "# Task 4 – Optimization Model using Linear Programming (PuLP)\n",
    "\n",
    "**Goal:** Solve a business problem using optimization techniques in Python.\n",
    "\n",
    "We'll use PuLP to solve a simple Linear Programming problem involving product profit maximization.\n"
   ]
  },
  {
   "cell_type": "markdown",
   "id": "474d8a1c-6c06-4981-90b1-b3ad09515619",
   "metadata": {},
   "source": [
    "##  Problem Statement \n",
    "\n",
    "A company produces two products: **Product A** and **Product B**.\n",
    "\n",
    "- Each unit of Product A gives ₹20 profit.\n",
    "- Each unit of Product B gives ₹30 profit.\n",
    "- Producing Product A requires 1 hour of labor and 2 units of raw material.\n",
    "- Producing Product B requires 2 hours of labor and 1 unit of raw material.\n",
    "- Total available labor: 40 hours.\n",
    "- Total available raw material: 50 units.\n",
    "\n",
    "### Objective:\n",
    "Maximize profit while respecting labor and material constraints.\n"
   ]
  },
  {
   "cell_type": "markdown",
   "id": "5e472fc1-8ef1-4125-8f9a-5a87a06f0c38",
   "metadata": {},
   "source": [
    "## 🧠 Problem Statement\n",
    "\n",
    "A company produces two products: **Product A** and **Product B**.\n",
    "\n",
    "- Each unit of Product A gives ₹20 profit.\n",
    "- Each unit of Product B gives ₹30 profit.\n",
    "- Producing Product A requires 1 hour of labor and 2 units of raw material.\n",
    "- Producing Product B requires 2 hours of labor and 1 unit of raw material.\n",
    "- Total available labor: 40 hours.\n",
    "- Total available raw material: 50 units.\n",
    "\n",
    "### Objective:\n",
    "Maximize profit while respecting labor and material constraints.\n"
   ]
  },
  {
   "cell_type": "code",
   "execution_count": 7,
   "id": "a1de3e09-a78a-4f3c-ab18-ce967b6f437f",
   "metadata": {},
   "outputs": [
    {
     "name": "stdout",
     "output_type": "stream",
     "text": [
      "Requirement already satisfied: pulp in c:\\users\\kiit0001\\appdata\\local\\programs\\python\\python310\\lib\\site-packages (3.2.1)\n"
     ]
    },
    {
     "name": "stderr",
     "output_type": "stream",
     "text": [
      "WARNING: You are using pip version 21.2.3; however, version 25.1.1 is available.\n",
      "You should consider upgrading via the 'C:\\Users\\KIIT0001\\AppData\\Local\\Programs\\Python\\Python310\\python.exe -m pip install --upgrade pip' command.\n"
     ]
    }
   ],
   "source": [
    "!pip install pulp\n",
    "from pulp import LpMaximize, LpProblem, LpVariable, value\n"
   ]
  },
  {
   "cell_type": "code",
   "execution_count": 8,
   "id": "73b86641-8cd0-419d-b90d-3bb671d52c9e",
   "metadata": {},
   "outputs": [
    {
     "name": "stdout",
     "output_type": "stream",
     "text": [
      "Status: 1\n",
      "Produce 20.0 units of Product A\n",
      "Produce 10.0 units of Product B\n",
      "Maximum Profit = ₹700.0\n"
     ]
    }
   ],
   "source": [
    "# Define the problem\n",
    "model = LpProblem(\"Maximize_Profit\", LpMaximize)\n",
    "\n",
    "# Define decision variables\n",
    "A = LpVariable(\"Product_A\", lowBound=0, cat='Integer')\n",
    "B = LpVariable(\"Product_B\", lowBound=0, cat='Integer')\n",
    "\n",
    "# Objective function\n",
    "model += 20 * A + 30 * B, \"Total_Profit\"\n",
    "\n",
    "# Constraints\n",
    "model += A + 2 * B <= 40, \"Labor_Constraint\"\n",
    "model += 2 * A + B <= 50, \"Material_Constraint\"\n",
    "\n",
    "# Solve the problem\n",
    "model.solve()\n",
    "\n",
    "# Results\n",
    "print(\"Status:\", model.status)\n",
    "print(\"Produce {} units of Product A\".format(A.varValue))\n",
    "print(\"Produce {} units of Product B\".format(B.varValue))\n",
    "print(\"Maximum Profit = ₹{}\".format(value(model.objective)))\n"
   ]
  },
  {
   "cell_type": "markdown",
   "id": "6fbc0e08-0f4e-4d42-a8fe-815527ccc639",
   "metadata": {},
   "source": [
    "## Insights\n",
    "\n",
    "Based on the optimization results:\n",
    "\n",
    "-  Produce **20 units** of **Product A**\n",
    "-  Produce **10 units** of **Product B**\n",
    "-  The **Maximum Profit** is **₹700**\n",
    "\n",
    "This is the optimal solution based on labor and material constraints. It ensures the highest profit without violating any limitations.\n"
   ]
  },
  {
   "cell_type": "code",
   "execution_count": 9,
   "id": "b85b07f2-e93f-4e2a-a465-88dc2438d963",
   "metadata": {},
   "outputs": [
    {
     "data": {
      "text/plain": [
       "'C:\\\\Users\\\\KIIT0001\\\\OneDrive\\\\Desktop\\\\Python\\\\ELiteTech_Intern\\\\Task_4_Optimization_Model'"
      ]
     },
     "execution_count": 9,
     "metadata": {},
     "output_type": "execute_result"
    }
   ],
   "source": [
    "import os\n",
    "os.getcwd()\n"
   ]
  },
  {
   "cell_type": "markdown",
   "id": "f0fbc1eb-134b-4084-9419-0e7fccdccf29",
   "metadata": {},
   "source": [
    "## Conclusion:\n",
    "The optimal strategy is to produce 20 units of Product A and 10 units of Product B to achieve the maximum profit of ₹700. This model can help the business allocate its limited resources efficiently.\n"
   ]
  }
 ],
 "metadata": {
  "kernelspec": {
   "display_name": "Python 3 (ipykernel)",
   "language": "python",
   "name": "python3"
  },
  "language_info": {
   "codemirror_mode": {
    "name": "ipython",
    "version": 3
   },
   "file_extension": ".py",
   "mimetype": "text/x-python",
   "name": "python",
   "nbconvert_exporter": "python",
   "pygments_lexer": "ipython3",
   "version": "3.10.0"
  }
 },
 "nbformat": 4,
 "nbformat_minor": 5
}
